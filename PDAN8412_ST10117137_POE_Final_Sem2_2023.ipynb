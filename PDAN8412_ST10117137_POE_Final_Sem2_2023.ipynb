{
  "nbformat": 4,
  "nbformat_minor": 0,
  "metadata": {
    "colab": {
      "provenance": []
    },
    "kernelspec": {
      "name": "python3",
      "display_name": "Python 3"
    },
    "language_info": {
      "name": "python"
    }
  },
  "cells": [
    {
      "cell_type": "markdown",
      "source": [
        "#ST10117137\n",
        "##PDAN8412\n",
        "###Semester 2\n",
        "####2023\n",
        "POE\n",
        "<hr>"
      ],
      "metadata": {
        "id": "jpV8tUX7JAcj"
      }
    },
    {
      "cell_type": "markdown",
      "source": [
        "## Dataset Reference\n",
        "- Parent Website: Kaggle\n",
        "<br>\n",
        "- Dataset Name: CIFAKE: Real and AI-Generated Synthetic Images\n",
        "<br>\n",
        "- Dataset Author: Jordan J. Bird\n",
        "<br>\n",
        "- URL: https://www.kaggle.com/datasets/birdy654/cifake-real-and-ai-generated-synthetic-images/data\n",
        "\n",
        "<hr>"
      ],
      "metadata": {
        "id": "jwJ80syXJE_t"
      }
    },
    {
      "cell_type": "markdown",
      "source": [
        "## What is Image Classification?\n",
        "- **Explain:** Image classification is the process of assigning classes to images. Image classification is one of the most important applications of deep learning and Artificial Intelligence. Image classification refers to assigning labels to images based on certain characteristics or features present in them. This is done by finding similar features in images belonging to different classes and using them to identify and label images.The algorithm identifies these features and uses them to differentiate between different images and assign labels to them. Image classification is done with the help of neural networks. Neural networks are deep learning algorithms; (Simplilearn, 2023).\n",
        "Or in other words, image classification is one of the applications using machine learning technology. The image classification task is giving input images and allowing the trained learning models to predict which class it belongs to.\n",
        "\n",
        "- **Note:** In this task, image classification will be performed through CNN, as it is a form of network architecture with primary use in image processing. Therefore it is logical to state the advantages, disadvantages, and examples of image classification, in context of a Convolutional Neural Network.\n",
        "\n",
        "- **Advantages:** One of the main advantages of CNNs is that they can learn from raw pixel data, without requiring any manual feature engineering or preprocessing. This means that they can automatically discover and adapt to the most salient characteristics of the images, such as edges, shapes, colors, textures, and objects. This also reduces the dimensionality and complexity of the input data, making the training and inference faster and more efficient. Another advantage of CNNs is that they can exploit the spatial and hierarchical structure of the images, by using filters that preserve the local connectivity and context of the pixels, and by building more abstract and high-level representations as they go deeper into the network. This allows them to capture the variability and diversity of the images, and to generalize well to new and unseen data; (Linkedin, 2023).\n",
        "\n",
        "- **Disadvantages:** However, CNNs also have some drawbacks that limit their performance and applicability. One of the main disadvantages of CNNs is that they require a large amount of labeled data to train effectively, which can be costly and time-consuming to obtain and annotate. Moreover, they are prone to overfitting, which means that they can memorize the noise and details of the training data, and fail to generalize to new and different data. To prevent overfitting, various regularization techniques, such as dropout, batch normalization, and data augmentation, have to be applied, which can increase the complexity and computational cost of the network. Another disadvantage of CNNs is that they are often considered as black boxes, which means that they are hard to interpret and explain. This can pose challenges for debugging, validating, and trusting the network's decisions, especially in sensitive and critical domains, such as healthcare, security, and law; (Linkedin, 2023).\n",
        "\n",
        "- **Examples:** This may include facial recognition. Based on training data, the learning model can classify if the facial image represents a male or female, or perhaps recognising certain faces of company members in the form of company security systems or criminal detection systems - hence classification. Another example includes its use in the medical field. Nowadays in more developed countries, deep learning image recognition is used to look at x-ray images to classify if patients have certain diseases/illnesses such as cancer (recognising cancerous nodes or tumors).\n",
        "\n",
        "<hr>"
      ],
      "metadata": {
        "id": "oLSpEovuJH5-"
      }
    },
    {
      "cell_type": "markdown",
      "source": [
        "## Why is this Dataset Appropriate for Image Classification?\n",
        "- CIFAKE is a dataset that contains 60000 synthetically-generated images and 60000 real images (collected from CIFAR-10), totalling to 120000 images. The stated question of the dataset's author includes 'Can computer vision techniques be used to detect when an image is real or has been generated by AI?'; (Kaggle, 2023). Thus referring to if a deep learning model can classify the images into 2 possible categories, Real, or Fake. To do this we will incorporate CNN as our deep learning model of choice as it has the advantages stated in the previous section. This makes the dataset compatible and quantifiable using CNN.\n",
        "\n",
        "- A convolutional neural network (CNN or convnet) is a subset of machine learning. It is one of the various types of artificial neural networks which are used for different applications and data types. A CNN is a kind of network architecture for deep learning algorithms and is specifically used for image recognition and tasks that involve the processing of pixel data; (Tech Target, 2023).\n",
        "There are other types of neural networks in deep learning, but for identifying and recognizing objects, CNNs are the network architecture of choice.\n",
        "\n",
        "- Towards Data Science (2023) states that a Convolutional Neural Network, also known as CNN or ConvNet, is a class of neural networks that specializes in processing data that has a grid-like topology, such as an image. A digital image is a binary representation of visual data. It contains a series of pixels arranged in a grid-like fashion that contains pixel values to denote how bright and what color each pixel should be. Therefore the dataset is approriate for image classificiation.\n",
        "\n",
        "<hr>"
      ],
      "metadata": {
        "id": "R4raOn5SJIId"
      }
    },
    {
      "cell_type": "markdown",
      "source": [
        "## What Analysis is Used?\n",
        "- **Predictive Analysis:**\n",
        "Predictive analytics is a branch of advanced analytics that makes predictions about future outcomes using historical data combined with statistical modeling, data mining techniques and machine learning. This task will use predictive analysis in the form of CNN Image Classification to classify images by its probability of being AI Generated or Real Images.\n",
        "- **Exploratory data analysis (EDA):**\n",
        "This process will be used with the dataset to perform investigations on the dataset’s variables and relationships between them to discover patterns, anomalous values that need to be removed (cleaning data), testing hypotheses and checking assumptions with aid of graphical representations in the form of graphs and diagrams and summary of statistics (Visualization). This will be used for the purpose of data cleaning of null, duplicated, and outliers, the visualization of each variable for understanding and interpreting and preparing the data for being processed into creating the models. However, this dataset was already cleaned and explored by the author and therefore it is uncertain how much EDA will be neccessary, if any at all.\n",
        "- **Purpose of the analysis:**\n",
        "The question the analysis will answer is which images are AI Generated, and which are Real Images. Data wranlging will not be neccessary as dataset is already conveniently cleaned, devoid of duplicates and only contains images. To prevent overfitting and underfitting the data, the model will be trained with sufficient data, features and reduced noise; a dropout layer will also be incorporated as a regularization technique for overfitting prevention. The CNN model will be evaluated and visuaslised using a confusion matrix and the metrics of accuracy, precision, recall, f1, and ROC as these are the approriate metrics for CNN. CNN is effective at image classification however there could be other lesser known or used models that can classify images, such as, sparse model, restricted Boltzmann machine model, OLOv5, the Vision Transformer, and Resnet34; among others.\n",
        "\n",
        "<hr>"
      ],
      "metadata": {
        "id": "TpZbjqxsJNE0"
      }
    },
    {
      "cell_type": "markdown",
      "source": [
        "## References\n",
        "- Kaggle. 2023. CIFAKE: Real and AI-Generated Synthetic Images, n.d. [Online]. Available at: https://www.kaggle.com/datasets/birdy654/cifake-real-and-ai-generated-synthetic-images/data [Accessed 4 November 2023].\n",
        "- Simplilearn. 2023. Ultimate Guide To Building Powerful Keras Image Classification Models, 24 February 2023. [Online]. Available at: https://www.simplilearn.com/tutorials/deep-learning-tutorial/guide-to-building-powerful-keras-image-classification-models#:~:text=Image%20classification%20is%20done%20with,picture%20shows%20a%20neural%20network.&text=Neural%20Networks%20contain%20multiple%20layers,perform%20prediction%2C%20classification%2C%20etc. [Accessed 17 November 2023].\n",
        "- Linkedin. 2023. What are the advantages and disadvantages of using convolutional neural networks for image recognition? 23 October 2023. [Online]. Available at: https://www.linkedin.com/advice/0/what-advantages-disadvantages-using-convolutional [Accessed 17 November 2023].\n",
        "- Tech Target. 2023. Convolutional neural network (CNN), n.d. [Online]. Available at: https://www.techtarget.com/searchenterpriseai/definition/convolutional-neural-network#:~:text=A%20CNN%20is%20a%20kind,the%20network%20architecture%20of%20choice. [Accessed 17 November 2023].\n",
        "- Towards Data Science. 2023. Convolutional Neural Networks, Explained, 26 August 2020. [Online]. Available at: https://towardsdatascience.com/convolutional-neural-networks-explained-9cc5188c4939 [Accessed 17 November 2023].\n",
        "\n",
        "<hr>"
      ],
      "metadata": {
        "id": "DVIDFoaFJNvl"
      }
    },
    {
      "cell_type": "markdown",
      "source": [
        "# Download The Dataset:"
      ],
      "metadata": {
        "id": "Vr7qAwY5euKL"
      }
    },
    {
      "cell_type": "code",
      "source": [
        "# Due to the size of the dataset, a more effective way\n",
        "# of accessing the dataset in terms of time and efficiency\n",
        "# was required and therefore to upload the dataset we will\n",
        "# download the dataset via Kaggle in Google Colab.\n",
        "# For this process, i adapted the code from a Kaggle Discussion.\n",
        "# ------------------------Code Reference Start----------------------------\n",
        "# Author: FILEMON\n",
        "# URL: https://www.kaggle.com/discussions/general/74235\n",
        "#\n",
        "# We grant access to our google drive\n",
        "# import drive\n",
        "from google.colab import drive\n",
        "drive.mount('/content/gdrive')"
      ],
      "metadata": {
        "colab": {
          "base_uri": "https://localhost:8080/"
        },
        "id": "Dj7OkGp9mOK4",
        "outputId": "d3bb38c4-941b-490c-d5ec-4284775aa130"
      },
      "execution_count": null,
      "outputs": [
        {
          "output_type": "stream",
          "name": "stdout",
          "text": [
            "Mounted at /content/gdrive\n"
          ]
        }
      ]
    },
    {
      "cell_type": "code",
      "source": [
        "# upload kaggle.json file\n",
        "# this file is from our settings page\n",
        "# in out kaggle account.\n",
        "# we first expire our API Token,\n",
        "# then create a new own. This .json file is\n",
        "# downloaded and uploaded here manually.\n",
        "from google.colab import files\n",
        "files.upload()"
      ],
      "metadata": {
        "colab": {
          "base_uri": "https://localhost:8080/",
          "height": 91
        },
        "id": "Cmd8q0wFmP_l",
        "outputId": "aa5a7ce8-85cf-4031-9e7b-fc4351f55069"
      },
      "execution_count": null,
      "outputs": [
        {
          "output_type": "display_data",
          "data": {
            "text/plain": [
              "<IPython.core.display.HTML object>"
            ],
            "text/html": [
              "\n",
              "     <input type=\"file\" id=\"files-a2a8c78f-ccb9-4825-8fc8-85d57dba23e6\" name=\"files[]\" multiple disabled\n",
              "        style=\"border:none\" />\n",
              "     <output id=\"result-a2a8c78f-ccb9-4825-8fc8-85d57dba23e6\">\n",
              "      Upload widget is only available when the cell has been executed in the\n",
              "      current browser session. Please rerun this cell to enable.\n",
              "      </output>\n",
              "      <script>// Copyright 2017 Google LLC\n",
              "//\n",
              "// Licensed under the Apache License, Version 2.0 (the \"License\");\n",
              "// you may not use this file except in compliance with the License.\n",
              "// You may obtain a copy of the License at\n",
              "//\n",
              "//      http://www.apache.org/licenses/LICENSE-2.0\n",
              "//\n",
              "// Unless required by applicable law or agreed to in writing, software\n",
              "// distributed under the License is distributed on an \"AS IS\" BASIS,\n",
              "// WITHOUT WARRANTIES OR CONDITIONS OF ANY KIND, either express or implied.\n",
              "// See the License for the specific language governing permissions and\n",
              "// limitations under the License.\n",
              "\n",
              "/**\n",
              " * @fileoverview Helpers for google.colab Python module.\n",
              " */\n",
              "(function(scope) {\n",
              "function span(text, styleAttributes = {}) {\n",
              "  const element = document.createElement('span');\n",
              "  element.textContent = text;\n",
              "  for (const key of Object.keys(styleAttributes)) {\n",
              "    element.style[key] = styleAttributes[key];\n",
              "  }\n",
              "  return element;\n",
              "}\n",
              "\n",
              "// Max number of bytes which will be uploaded at a time.\n",
              "const MAX_PAYLOAD_SIZE = 100 * 1024;\n",
              "\n",
              "function _uploadFiles(inputId, outputId) {\n",
              "  const steps = uploadFilesStep(inputId, outputId);\n",
              "  const outputElement = document.getElementById(outputId);\n",
              "  // Cache steps on the outputElement to make it available for the next call\n",
              "  // to uploadFilesContinue from Python.\n",
              "  outputElement.steps = steps;\n",
              "\n",
              "  return _uploadFilesContinue(outputId);\n",
              "}\n",
              "\n",
              "// This is roughly an async generator (not supported in the browser yet),\n",
              "// where there are multiple asynchronous steps and the Python side is going\n",
              "// to poll for completion of each step.\n",
              "// This uses a Promise to block the python side on completion of each step,\n",
              "// then passes the result of the previous step as the input to the next step.\n",
              "function _uploadFilesContinue(outputId) {\n",
              "  const outputElement = document.getElementById(outputId);\n",
              "  const steps = outputElement.steps;\n",
              "\n",
              "  const next = steps.next(outputElement.lastPromiseValue);\n",
              "  return Promise.resolve(next.value.promise).then((value) => {\n",
              "    // Cache the last promise value to make it available to the next\n",
              "    // step of the generator.\n",
              "    outputElement.lastPromiseValue = value;\n",
              "    return next.value.response;\n",
              "  });\n",
              "}\n",
              "\n",
              "/**\n",
              " * Generator function which is called between each async step of the upload\n",
              " * process.\n",
              " * @param {string} inputId Element ID of the input file picker element.\n",
              " * @param {string} outputId Element ID of the output display.\n",
              " * @return {!Iterable<!Object>} Iterable of next steps.\n",
              " */\n",
              "function* uploadFilesStep(inputId, outputId) {\n",
              "  const inputElement = document.getElementById(inputId);\n",
              "  inputElement.disabled = false;\n",
              "\n",
              "  const outputElement = document.getElementById(outputId);\n",
              "  outputElement.innerHTML = '';\n",
              "\n",
              "  const pickedPromise = new Promise((resolve) => {\n",
              "    inputElement.addEventListener('change', (e) => {\n",
              "      resolve(e.target.files);\n",
              "    });\n",
              "  });\n",
              "\n",
              "  const cancel = document.createElement('button');\n",
              "  inputElement.parentElement.appendChild(cancel);\n",
              "  cancel.textContent = 'Cancel upload';\n",
              "  const cancelPromise = new Promise((resolve) => {\n",
              "    cancel.onclick = () => {\n",
              "      resolve(null);\n",
              "    };\n",
              "  });\n",
              "\n",
              "  // Wait for the user to pick the files.\n",
              "  const files = yield {\n",
              "    promise: Promise.race([pickedPromise, cancelPromise]),\n",
              "    response: {\n",
              "      action: 'starting',\n",
              "    }\n",
              "  };\n",
              "\n",
              "  cancel.remove();\n",
              "\n",
              "  // Disable the input element since further picks are not allowed.\n",
              "  inputElement.disabled = true;\n",
              "\n",
              "  if (!files) {\n",
              "    return {\n",
              "      response: {\n",
              "        action: 'complete',\n",
              "      }\n",
              "    };\n",
              "  }\n",
              "\n",
              "  for (const file of files) {\n",
              "    const li = document.createElement('li');\n",
              "    li.append(span(file.name, {fontWeight: 'bold'}));\n",
              "    li.append(span(\n",
              "        `(${file.type || 'n/a'}) - ${file.size} bytes, ` +\n",
              "        `last modified: ${\n",
              "            file.lastModifiedDate ? file.lastModifiedDate.toLocaleDateString() :\n",
              "                                    'n/a'} - `));\n",
              "    const percent = span('0% done');\n",
              "    li.appendChild(percent);\n",
              "\n",
              "    outputElement.appendChild(li);\n",
              "\n",
              "    const fileDataPromise = new Promise((resolve) => {\n",
              "      const reader = new FileReader();\n",
              "      reader.onload = (e) => {\n",
              "        resolve(e.target.result);\n",
              "      };\n",
              "      reader.readAsArrayBuffer(file);\n",
              "    });\n",
              "    // Wait for the data to be ready.\n",
              "    let fileData = yield {\n",
              "      promise: fileDataPromise,\n",
              "      response: {\n",
              "        action: 'continue',\n",
              "      }\n",
              "    };\n",
              "\n",
              "    // Use a chunked sending to avoid message size limits. See b/62115660.\n",
              "    let position = 0;\n",
              "    do {\n",
              "      const length = Math.min(fileData.byteLength - position, MAX_PAYLOAD_SIZE);\n",
              "      const chunk = new Uint8Array(fileData, position, length);\n",
              "      position += length;\n",
              "\n",
              "      const base64 = btoa(String.fromCharCode.apply(null, chunk));\n",
              "      yield {\n",
              "        response: {\n",
              "          action: 'append',\n",
              "          file: file.name,\n",
              "          data: base64,\n",
              "        },\n",
              "      };\n",
              "\n",
              "      let percentDone = fileData.byteLength === 0 ?\n",
              "          100 :\n",
              "          Math.round((position / fileData.byteLength) * 100);\n",
              "      percent.textContent = `${percentDone}% done`;\n",
              "\n",
              "    } while (position < fileData.byteLength);\n",
              "  }\n",
              "\n",
              "  // All done.\n",
              "  yield {\n",
              "    response: {\n",
              "      action: 'complete',\n",
              "    }\n",
              "  };\n",
              "}\n",
              "\n",
              "scope.google = scope.google || {};\n",
              "scope.google.colab = scope.google.colab || {};\n",
              "scope.google.colab._files = {\n",
              "  _uploadFiles,\n",
              "  _uploadFilesContinue,\n",
              "};\n",
              "})(self);\n",
              "</script> "
            ]
          },
          "metadata": {}
        },
        {
          "output_type": "stream",
          "name": "stdout",
          "text": [
            "Saving kaggle.json to kaggle.json\n"
          ]
        },
        {
          "output_type": "execute_result",
          "data": {
            "text/plain": [
              "{'kaggle.json': b'{\"username\":\"st10117137\",\"key\":\"a9912e56815dff7897c22d09bd86fcef\"}'}"
            ]
          },
          "metadata": {},
          "execution_count": 2
        }
      ]
    },
    {
      "cell_type": "code",
      "source": [
        "!ls -lha kaggle.json"
      ],
      "metadata": {
        "colab": {
          "base_uri": "https://localhost:8080/"
        },
        "id": "ZU54EyE5mRef",
        "outputId": "94d06eaa-46ea-4bfe-9be1-8ec8729bc883"
      },
      "execution_count": null,
      "outputs": [
        {
          "output_type": "stream",
          "name": "stdout",
          "text": [
            "-rw-r--r-- 1 root root 66 Nov 19 12:45 kaggle.json\n"
          ]
        }
      ]
    },
    {
      "cell_type": "code",
      "source": [
        "# kaggle installation\n",
        "!pip install -q kaggle"
      ],
      "metadata": {
        "id": "OFSVMbW_mU7d"
      },
      "execution_count": null,
      "outputs": []
    },
    {
      "cell_type": "code",
      "source": [
        "# Make directory named kaggle and copy kaggle.json file there.\n",
        "!mkdir -p ~/.kaggle\n",
        "!cp kaggle.json ~/.kaggle/"
      ],
      "metadata": {
        "id": "TvJ4LxYjmWE3"
      },
      "execution_count": null,
      "outputs": []
    },
    {
      "cell_type": "code",
      "source": [
        "!chmod 600 /root/.kaggle/kaggle.json"
      ],
      "metadata": {
        "id": "h7NNZaifmWtz"
      },
      "execution_count": null,
      "outputs": []
    },
    {
      "cell_type": "code",
      "source": [
        "!pwd"
      ],
      "metadata": {
        "colab": {
          "base_uri": "https://localhost:8080/"
        },
        "id": "yXNTw8JxmY_A",
        "outputId": "4abff082-1f91-4225-80f3-7d8c7e9d6105"
      },
      "execution_count": null,
      "outputs": [
        {
          "output_type": "stream",
          "name": "stdout",
          "text": [
            "/content\n"
          ]
        }
      ]
    },
    {
      "cell_type": "code",
      "source": [
        "# download kaggle dataset\n",
        "# here we use the URL from the dataset\n",
        "# page starting from the username of the author\n",
        "!kaggle datasets download -d birdy654/cifake-real-and-ai-generated-synthetic-images"
      ],
      "metadata": {
        "colab": {
          "base_uri": "https://localhost:8080/"
        },
        "id": "9d86TknkmacE",
        "outputId": "e53cdfa3-d2db-4150-d03a-317d615409da"
      },
      "execution_count": null,
      "outputs": [
        {
          "output_type": "stream",
          "name": "stdout",
          "text": [
            "Downloading cifake-real-and-ai-generated-synthetic-images.zip to /content\n",
            " 85% 89.0M/105M [00:01<00:00, 71.7MB/s]\n",
            "100% 105M/105M [00:01<00:00, 80.0MB/s] \n"
          ]
        }
      ]
    },
    {
      "cell_type": "code",
      "source": [
        "# The dataset is downloaded and now we require\n",
        "# it to be unzipped for use.\n",
        "# unzip the dataset\n",
        "!unzip cifake-real-and-ai-generated-synthetic-images.zip\n",
        "\n",
        "# Author: FILEMON\n",
        "# URL: https://www.kaggle.com/discussions/general/742\n",
        "# --------------------Code Reference Ends Here-----------------------"
      ],
      "metadata": {
        "id": "zimLO06Anbos"
      },
      "execution_count": null,
      "outputs": []
    },
    {
      "cell_type": "markdown",
      "source": [
        "# Import Libraries & Dataset:"
      ],
      "metadata": {
        "id": "ZAbZ2oS8fAze"
      }
    },
    {
      "cell_type": "code",
      "source": [
        "# First step is getting\n",
        "# our Necessary imports\n",
        "import tensorflow as tf\n",
        "import numpy as np\n",
        "import pandas as pd\n",
        "import matplotlib.pyplot as plt\n",
        "import seaborn as sea\n",
        "\n",
        "from tensorflow.keras.preprocessing.image import ImageDataGenerator\n",
        "from tensorflow.keras import layers, models\n",
        "from tensorflow.keras.callbacks import ModelCheckpoint\n",
        "\n",
        "# first we copy the directory paths.\n",
        "# train_img is the training images\n",
        "# consisting of both folders of\n",
        "# fake and generated images,\n",
        "# and the test_img is the path\n",
        "# for the testing division set\n",
        "# of our images, also containing\n",
        "# 2 folders (Fake and Real folders).\n",
        "train_img_path = '/content/train'\n",
        "test_img_path = '/content/test'\n",
        "\n",
        "# width and height\n",
        "w,h = 32,32\n",
        "# Batch size refers to the number of training instances\n",
        "# in the batch. For example, batch_size=32 means that there\n",
        "# are 32 training instances in each batch.\n",
        "batch_size = 32\n",
        "\n",
        "#ImageDataGenerator:\n",
        "# ensures that the model receives new variations of the images at each epoch.\n",
        "train_data_gen = ImageDataGenerator(rescale = 1.0/255)\n",
        "\n",
        "test_data_gen = ImageDataGenerator(rescale = 1.0/255)\n",
        "\n",
        "# The dataframe for the TRAINING data\n",
        "# the previously stated paramters of w, h, batch_siz, etc,\n",
        "# are applied to the dataframes below\n",
        "dfTrain = train_data_gen.flow_from_directory( train_img_path,\n",
        "                                                    target_size = (w,h),\n",
        "                                                    batch_size = batch_size,\n",
        "                                                    class_mode = 'binary',\n",
        "                                                    shuffle = True)\n",
        "\n",
        "# The dataset for the TESTING data\n",
        "dfTest = test_data_gen.flow_from_directory( test_img_path,\n",
        "                                                  target_size = (w,h),\n",
        "                                                  batch_size = batch_size,\n",
        "                                                  class_mode = 'binary',\n",
        "                                                  shuffle = False)"
      ],
      "metadata": {
        "colab": {
          "base_uri": "https://localhost:8080/"
        },
        "id": "L-Ly7EQZmcTg",
        "outputId": "c425b80a-f559-4824-d5cb-55bf43cae5c6"
      },
      "execution_count": null,
      "outputs": [
        {
          "output_type": "stream",
          "name": "stdout",
          "text": [
            "Found 100000 images belonging to 2 classes.\n",
            "Found 20000 images belonging to 2 classes.\n"
          ]
        }
      ]
    },
    {
      "cell_type": "markdown",
      "source": [
        "# Confirming Dataset Train & Test Splits:"
      ],
      "metadata": {
        "id": "u2E4oCJmfRSQ"
      }
    },
    {
      "cell_type": "code",
      "source": [
        "# The dictionary containing the mapping from class names\n",
        "# to class indices can be obtained via the attribute class_indices\n",
        "print('Train Dataset: ', dfTrain.class_indices)\n",
        "print('Test Dataset:  ', dfTest.class_indices)"
      ],
      "metadata": {
        "colab": {
          "base_uri": "https://localhost:8080/"
        },
        "id": "B8FnIGA2me9O",
        "outputId": "f202ea69-5292-4b97-ea00-437f82cec3c2"
      },
      "execution_count": null,
      "outputs": [
        {
          "output_type": "stream",
          "name": "stdout",
          "text": [
            "Train Dataset:  {'FAKE': 0, 'REAL': 1}\n",
            "Test Dataset:   {'FAKE': 0, 'REAL': 1}\n"
          ]
        }
      ]
    },
    {
      "cell_type": "code",
      "source": [
        "# Shape of the dataset, the last value, '3' in the output,\n",
        "# represents that the picture has color (RGB).\n",
        "# Each pixel of the image has 3 RGB values\n",
        "print('Training Dataset: ', dfTrain.image_shape)\n",
        "print('Testing Dataset:  ', dfTest.image_shape)"
      ],
      "metadata": {
        "colab": {
          "base_uri": "https://localhost:8080/"
        },
        "id": "mj0QFOcpmgKH",
        "outputId": "888c8e60-8cc9-4881-f563-16072e03a74c"
      },
      "execution_count": null,
      "outputs": [
        {
          "output_type": "stream",
          "name": "stdout",
          "text": [
            "Training Dataset:  (32, 32, 3)\n",
            "Testing Dataset:   (32, 32, 3)\n"
          ]
        }
      ]
    },
    {
      "cell_type": "markdown",
      "source": [
        "# Developing Full Pipeline:"
      ],
      "metadata": {
        "id": "ASrD_iONfkUH"
      }
    },
    {
      "cell_type": "code",
      "execution_count": null,
      "metadata": {
        "id": "LPtQjkCQj056"
      },
      "outputs": [],
      "source": [
        "# due to the complex nature of deep learning model\n",
        "# we approach out pipeline from an OOP standpoint\n",
        "# thus keeping it easily readable and understandable\n",
        "# while incorporating custom steps/functions.\n",
        "class Pipeline(object):\n",
        "    def __init__(self):\n",
        "      pass\n",
        "\n",
        "    # In this function we create our CNN Model and define\n",
        "    # parameters and develop the models layers\n",
        "    def CNN_Model(self):\n",
        "\n",
        "      # Necessary import\n",
        "      from tensorflow.keras import layers, models\n",
        "\n",
        "      # throughout this class you will\n",
        "      # notice global variables as this\n",
        "      # will allow communication between\n",
        "      # functions using the same variables\n",
        "      global model\n",
        "\n",
        "      # we are using a CNN sequential model\n",
        "      model = models.Sequential()\n",
        "\n",
        "      # Convolutional layers\n",
        "      # 'rele' refers to ReLU or Rectified Linear Activation,\n",
        "      # it overcomes the vanishing gradient problem,\n",
        "      # allowing models to learn faster and perform better.\n",
        "\n",
        "      # Conv2d. This is the standard Convolution Neural Network.\n",
        "      # Conv2D is generally used on Image data.\n",
        "      # It is called 2 dimensional CNN because the kernel\n",
        "      # slides along 2 dimensions on the data.\n",
        "      model.add(layers.Conv2D(32, (3, 3), activation='relu', input_shape=(w, h, 3)))\n",
        "      # Max pooling 2D is a technique used to reduce the spatial dimensions\n",
        "      # of an input while preserving the most important information.\n",
        "      model.add(layers.MaxPooling2D((2, 2)))\n",
        "      model.add(layers.Conv2D(64, (3, 3), activation='relu'))\n",
        "      model.add(layers.MaxPooling2D((2, 2)))\n",
        "      model.add(layers.Conv2D(128, (3, 3), activation='relu'))\n",
        "      model.add(layers.MaxPooling2D((2, 2)))\n",
        "\n",
        "      # Flatten layer\n",
        "      # The flatten layer lies between the CNN and the ANN,\n",
        "      # and its job is to convert the output of the CNN\n",
        "      # into an input that the ANN can process\n",
        "      model.add(layers.Flatten())\n",
        "\n",
        "      # Dense layers\n",
        "      # Dense Layer is simple layer of neurons in which each neuron\n",
        "      # receives input from all the neurons of previous layer,\n",
        "      # thus called as dense. Dense Layer is used to classify\n",
        "      # image based on output from convolutional layers.\n",
        "      model.add(layers.Dense(256, activation='relu'))\n",
        "      # The Dropout Layer is a regularization technique used in\n",
        "      # CNN (and other deep learning models) to help prevent overfitting\n",
        "      model.add(layers.Dropout(0.5))\n",
        "      # Output layer with 1 neuron (binary classification)\n",
        "      model.add(layers.Dense(1, activation='sigmoid'))\n",
        "\n",
        "      # Compile the model\n",
        "      # Adam optimizer, short for Adaptive Moment Estimation optimizer,\n",
        "      # is an optimization algorithm commonly used in deep learning.\n",
        "      # binary_crossentropy is used as a loss function for binary classification model.\n",
        "      # The binary_crossentropy function computes the cross-entropy loss\n",
        "      # between true labels and predicted labels\n",
        "      model.compile(optimizer='adam', loss='binary_crossentropy', metrics=['accuracy'])\n",
        "\n",
        "      # Prints a summary of the model architecture.\n",
        "      # Architecture models allow visualization\n",
        "      # of information about the system represented by the model.\n",
        "      model.summary()\n",
        "\n",
        "      return model\n",
        "\n",
        "    # Now that the model architecture is complete.\n",
        "    # We will create a function for checkpoint.\n",
        "    # A checkpoint is essentially a dump of a models\n",
        "    # internal sate, such as weights, learning rate, etc\n",
        "    # so that the framework can resume the training\n",
        "    # from this point whenever desired.\n",
        "    def CreateCheckpoint(self):\n",
        "\n",
        "      # imports checkpoint\n",
        "      from tensorflow.keras.callbacks import ModelCheckpoint\n",
        "\n",
        "      # Save best models weight_path\n",
        "      global weight_path\n",
        "      weight_path = '/content/working'\n",
        "\n",
        "      # we create the checkpoint\n",
        "      # but specifically for the models weight\n",
        "      global model_checkpoint\n",
        "      model_checkpoint = ModelCheckpoint(\n",
        "          filepath = weight_path,\n",
        "          save_best_only = True,\n",
        "          save_weights_only = True,\n",
        "          mode = 'max',\n",
        "          monitor = 'val_accuracy')\n",
        "\n",
        "      return model_checkpoint\n",
        "\n",
        "    # In this function we will fit the training\n",
        "    # data into the CNN model, while also tracking\n",
        "    # a history log of the process for later\n",
        "    # displaying the models accuracy at each 10 epocs\n",
        "    # and the validation loss during the process\n",
        "    def LogHistoryAndFitModel(self):\n",
        "\n",
        "      # fitting the model and saving history\n",
        "      global history\n",
        "      history = model.fit(dfTrain,\n",
        "                          epochs=10,\n",
        "                          validation_data = dfTest,\n",
        "                          callbacks = [model_checkpoint])\n",
        "      return history\n",
        "\n",
        "    # This function simply is a tool for visualisation\n",
        "    # of the accuracy and loss on the form of pyplots.\n",
        "    def EvalAccLoss(self):\n",
        "      import matplotlib.pyplot as plt\n",
        "      # summarize history for accuracy\n",
        "      plt.plot(history.history['accuracy'])\n",
        "      plt.plot(history.history['val_accuracy'])\n",
        "      plt.title('model accuracy')\n",
        "      plt.ylabel('accuracy')\n",
        "      plt.xlabel('epoch')\n",
        "      plt.legend(['Train', 'Validation'], loc='upper left')\n",
        "      plt.show()\n",
        "\n",
        "      # summarize history for loss\n",
        "      plt.plot(history.history['loss'])\n",
        "      plt.plot(history.history['val_loss'])\n",
        "      plt.title('model loss')\n",
        "      plt.ylabel('loss')\n",
        "      plt.xlabel('epoch')\n",
        "      plt.legend(['Train', 'Validation'], loc='upper left')\n",
        "      plt.show()\n",
        "\n",
        "      #return\n",
        "\n",
        "    # In a previous function we created a checkpoint.\n",
        "    # now we will load the chackpoint to acheive the\n",
        "    # best weights as previously explained.\n",
        "    def LoadCheckpoint(self):\n",
        "      # load best weights to model\n",
        "      model.load_weights(weight_path)\n",
        "\n",
        "      # make prediction\n",
        "      predictions = model.predict(dfTest)\n",
        "\n",
        "      global binary_predictions\n",
        "      binary_predictions = (predictions > 0.5).astype(int)\n",
        "      binary_predictions\n",
        "\n",
        "      # Assuming you have true labels (ground truth)\n",
        "      global true_labels\n",
        "      true_labels = dfTest.classes\n",
        "\n",
        "      return predictions, binary_predictions, true_labels\n",
        "\n",
        "    # This final function is for evaluation and visualisation\n",
        "    # of the performance of out model.\n",
        "    # We will evaluate the the metrics of accuracy,\n",
        "    # precision, f1_score, support, overall sccuracy,\n",
        "    # and a confusion matrix, with help from classification report\n",
        "    def PerformanceEvaluation(self):\n",
        "      from sklearn.metrics import accuracy_score, precision_score\n",
        "\n",
        "      acc = accuracy_score(true_labels, binary_predictions)\n",
        "      print('Accuracy score :',acc)\n",
        "\n",
        "      prc = precision_score(true_labels, binary_predictions)\n",
        "      print('Precision score :',prc)\n",
        "\n",
        "      from sklearn.metrics import confusion_matrix, classification_report\n",
        "      # Generate a confusion matrix\n",
        "      cm = sea.heatmap(confusion_matrix(true_labels, binary_predictions), annot=True)\n",
        "\n",
        "      # Print classification report\n",
        "      print(classification_report(true_labels, binary_predictions))\n",
        "\n",
        "      plt.title('Confusion Matrix')\n",
        "      plt.xlabel('Predicted')\n",
        "      plt.ylabel('Actual Classes')\n",
        "      plt.show()\n",
        "\n",
        "      return acc, prc, cm"
      ]
    },
    {
      "cell_type": "code",
      "source": [
        "# We now give the pipeline we created\n",
        "# a name, 'myPipeline' so we can\n",
        "# easily call it's functions\n",
        "myPipeline = Pipeline()"
      ],
      "metadata": {
        "id": "pn-lEAsrmnj1"
      },
      "execution_count": null,
      "outputs": []
    },
    {
      "cell_type": "markdown",
      "source": [
        "# Model Architecture:"
      ],
      "metadata": {
        "id": "oUl8nQxjlyuw"
      }
    },
    {
      "cell_type": "code",
      "source": [
        "# We now create the model, its layers,\n",
        "# and print its architecture.\n",
        "myPipeline.CNN_Model()"
      ],
      "metadata": {
        "colab": {
          "base_uri": "https://localhost:8080/"
        },
        "id": "5Gnac0A_F2DH",
        "outputId": "9d00043a-2df6-4f5e-8644-2d51d2482cca"
      },
      "execution_count": null,
      "outputs": [
        {
          "output_type": "stream",
          "name": "stdout",
          "text": [
            "Model: \"sequential_41\"\n",
            "_________________________________________________________________\n",
            " Layer (type)                Output Shape              Param #   \n",
            "=================================================================\n",
            " conv2d_120 (Conv2D)         (None, 30, 30, 32)        896       \n",
            "                                                                 \n",
            " max_pooling2d_120 (MaxPool  (None, 15, 15, 32)        0         \n",
            " ing2D)                                                          \n",
            "                                                                 \n",
            " conv2d_121 (Conv2D)         (None, 13, 13, 64)        18496     \n",
            "                                                                 \n",
            " max_pooling2d_121 (MaxPool  (None, 6, 6, 64)          0         \n",
            " ing2D)                                                          \n",
            "                                                                 \n",
            " conv2d_122 (Conv2D)         (None, 4, 4, 128)         73856     \n",
            "                                                                 \n",
            " max_pooling2d_122 (MaxPool  (None, 2, 2, 128)         0         \n",
            " ing2D)                                                          \n",
            "                                                                 \n",
            " flatten_40 (Flatten)        (None, 512)               0         \n",
            "                                                                 \n",
            " dense_80 (Dense)            (None, 256)               131328    \n",
            "                                                                 \n",
            " dropout_40 (Dropout)        (None, 256)               0         \n",
            "                                                                 \n",
            " dense_81 (Dense)            (None, 1)                 257       \n",
            "                                                                 \n",
            "=================================================================\n",
            "Total params: 224833 (878.25 KB)\n",
            "Trainable params: 224833 (878.25 KB)\n",
            "Non-trainable params: 0 (0.00 Byte)\n",
            "_________________________________________________________________\n"
          ]
        },
        {
          "output_type": "execute_result",
          "data": {
            "text/plain": [
              "<keras.src.engine.sequential.Sequential at 0x7eef5ba70af0>"
            ]
          },
          "metadata": {},
          "execution_count": 129
        }
      ]
    },
    {
      "cell_type": "markdown",
      "source": [
        "# Create Model Checkpoint:"
      ],
      "metadata": {
        "id": "oJKm2b4Ml3Me"
      }
    },
    {
      "cell_type": "code",
      "source": [
        "# call function to create the checkpoint\n",
        "# for its weights.\n",
        "myPipeline.CreateCheckpoint()"
      ],
      "metadata": {
        "colab": {
          "base_uri": "https://localhost:8080/"
        },
        "id": "z2qxWybCF4v3",
        "outputId": "44e6644d-ecbc-4277-9028-544dfd112b21"
      },
      "execution_count": null,
      "outputs": [
        {
          "output_type": "execute_result",
          "data": {
            "text/plain": [
              "<keras.src.callbacks.ModelCheckpoint at 0x7eef5ea7cbb0>"
            ]
          },
          "metadata": {},
          "execution_count": 130
        }
      ]
    },
    {
      "cell_type": "markdown",
      "source": [
        "# Fit Model:"
      ],
      "metadata": {
        "id": "RsfeP0W9l7IW"
      }
    },
    {
      "cell_type": "code",
      "source": [
        "# We fit the model and track its history\n",
        "myPipeline.LogHistoryAndFitModel()"
      ],
      "metadata": {
        "colab": {
          "base_uri": "https://localhost:8080/"
        },
        "id": "jtqhyNTXF57o",
        "outputId": "a28eaba9-7afc-48e0-aed9-eb241fe98bf6"
      },
      "execution_count": null,
      "outputs": [
        {
          "output_type": "stream",
          "name": "stdout",
          "text": [
            "Epoch 1/10\n",
            "3125/3125 [==============================] - 251s 80ms/step - loss: 0.3435 - accuracy: 0.8508 - val_loss: 0.2606 - val_accuracy: 0.8929\n",
            "Epoch 2/10\n",
            "3125/3125 [==============================] - 213s 68ms/step - loss: 0.2324 - accuracy: 0.9058 - val_loss: 0.2135 - val_accuracy: 0.9136\n",
            "Epoch 3/10\n",
            "3125/3125 [==============================] - 216s 69ms/step - loss: 0.2016 - accuracy: 0.9201 - val_loss: 0.1848 - val_accuracy: 0.9251\n",
            "Epoch 4/10\n",
            "3125/3125 [==============================] - 216s 69ms/step - loss: 0.1764 - accuracy: 0.9305 - val_loss: 0.1837 - val_accuracy: 0.9273\n",
            "Epoch 5/10\n",
            "3125/3125 [==============================] - 216s 69ms/step - loss: 0.1615 - accuracy: 0.9363 - val_loss: 0.1906 - val_accuracy: 0.9230\n",
            "Epoch 6/10\n",
            "3125/3125 [==============================] - 213s 68ms/step - loss: 0.1462 - accuracy: 0.9424 - val_loss: 0.1903 - val_accuracy: 0.9232\n",
            "Epoch 7/10\n",
            "3125/3125 [==============================] - 224s 72ms/step - loss: 0.1323 - accuracy: 0.9484 - val_loss: 0.1719 - val_accuracy: 0.9341\n",
            "Epoch 8/10\n",
            "3125/3125 [==============================] - 216s 69ms/step - loss: 0.1221 - accuracy: 0.9523 - val_loss: 0.1849 - val_accuracy: 0.9300\n",
            "Epoch 9/10\n",
            "3125/3125 [==============================] - 217s 69ms/step - loss: 0.1132 - accuracy: 0.9557 - val_loss: 0.1922 - val_accuracy: 0.9291\n",
            "Epoch 10/10\n",
            "3125/3125 [==============================] - 217s 69ms/step - loss: 0.1037 - accuracy: 0.9594 - val_loss: 0.1863 - val_accuracy: 0.9323\n"
          ]
        },
        {
          "output_type": "execute_result",
          "data": {
            "text/plain": [
              "<keras.src.callbacks.History at 0x7eef5ea7cb50>"
            ]
          },
          "metadata": {},
          "execution_count": 131
        }
      ]
    },
    {
      "cell_type": "markdown",
      "source": [
        "# Visualise Performance For Tuning:"
      ],
      "metadata": {
        "id": "1qWZd9pLmBYe"
      }
    },
    {
      "cell_type": "code",
      "source": [
        "# We now visualise the accuracy and loss\n",
        "# of the model through its history\n",
        "myPipeline.EvalAccLoss()"
      ],
      "metadata": {
        "colab": {
          "base_uri": "https://localhost:8080/",
          "height": 927
        },
        "id": "dLbC4VkuF7FD",
        "outputId": "56c6b576-b92a-4ae1-c4e6-a95aa7229fab"
      },
      "execution_count": null,
      "outputs": [
        {
          "output_type": "display_data",
          "data": {
            "text/plain": [
              "<Figure size 640x480 with 1 Axes>"
            ],
            "image/png": "[encoded data removed]"
          },
          "metadata": {}
        },
        {
          "output_type": "display_data",
          "data": {
            "text/plain": [
              "<Figure size 640x480 with 1 Axes>"
            ],
            "image/png": "[encoded data removed]"
          },
          "metadata": {}
        }
      ]
    },
    {
      "cell_type": "markdown",
      "source": [
        "# Loading Weights Via Checkpoint:"
      ],
      "metadata": {
        "id": "Isst3btxmG2t"
      }
    },
    {
      "cell_type": "code",
      "source": [
        "# function for loading the weights via checkpoint\n",
        "myPipeline.LoadCheckpoint()"
      ],
      "metadata": {
        "colab": {
          "base_uri": "https://localhost:8080/"
        },
        "id": "nL2Tsat_F8Mm",
        "outputId": "c0569063-315f-4b50-c335-898bef95d86d"
      },
      "execution_count": null,
      "outputs": [
        {
          "output_type": "stream",
          "name": "stdout",
          "text": [
            "625/625 [==============================] - 17s 27ms/step\n"
          ]
        },
        {
          "output_type": "execute_result",
          "data": {
            "text/plain": [
              "(array([[3.2635846e-05],\n",
              "        [4.4315036e-02],\n",
              "        [1.2392871e-03],\n",
              "        ...,\n",
              "        [9.9545425e-01],\n",
              "        [9.9996358e-01],\n",
              "        [5.5520833e-03]], dtype=float32),\n",
              " array([[0],\n",
              "        [0],\n",
              "        [0],\n",
              "        ...,\n",
              "        [1],\n",
              "        [1],\n",
              "        [0]]),\n",
              " array([0, 0, 0, ..., 1, 1, 1], dtype=int32))"
            ]
          },
          "metadata": {},
          "execution_count": 133
        }
      ]
    },
    {
      "cell_type": "markdown",
      "source": [
        "# Performance Evaluation:"
      ],
      "metadata": {
        "id": "G23mFK5FmMvg"
      }
    },
    {
      "cell_type": "code",
      "source": [
        "# and lastly, the performance evaluation\n",
        "# and visualisation.\n",
        "# The model performed well with perfect support,\n",
        "# and overall good accuracy. Model is neither\n",
        "# significantly over nor under-fitted.\n",
        "myPipeline.PerformanceEvaluation()"
      ],
      "metadata": {
        "colab": {
          "base_uri": "https://localhost:8080/",
          "height": 730
        },
        "id": "5QsIhow4F9nf",
        "outputId": "e6caab26-917b-48ba-dcc0-f90c5b2d7183"
      },
      "execution_count": null,
      "outputs": [
        {
          "output_type": "stream",
          "name": "stdout",
          "text": [
            "Accuracy score : 0.9341\n",
            "Precision score : 0.9242572322126661\n",
            "              precision    recall  f1-score   support\n",
            "\n",
            "           0       0.94      0.92      0.93     10000\n",
            "           1       0.92      0.95      0.93     10000\n",
            "\n",
            "    accuracy                           0.93     20000\n",
            "   macro avg       0.93      0.93      0.93     20000\n",
            "weighted avg       0.93      0.93      0.93     20000\n",
            "\n"
          ]
        },
        {
          "output_type": "display_data",
          "data": {
            "text/plain": [
              "<Figure size 640x480 with 2 Axes>"
            ],
            "image/png": "[encoded data removed]"
          },
          "metadata": {}
        },
        {
          "output_type": "execute_result",
          "data": {
            "text/plain": [
              "(0.9341,\n",
              " 0.9242572322126661,\n",
              " <Axes: title={'center': 'Confusion Matrix'}, xlabel='Predicted', ylabel='Actual Classes'>)"
            ]
          },
          "metadata": {},
          "execution_count": 134
        }
      ]
    }
  ]
}